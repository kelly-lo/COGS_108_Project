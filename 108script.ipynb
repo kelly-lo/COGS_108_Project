{
 "cells": [
  {
   "cell_type": "code",
   "execution_count": 1,
   "metadata": {},
   "outputs": [],
   "source": [
    "%matplotlib inline\n",
    "\n",
    "# Import libraries\n",
    "import numpy as np\n",
    "import pandas as pd\n",
    "import matplotlib.pyplot as plt\n",
    "import seaborn as sns"
   ]
  },
  {
   "cell_type": "code",
   "execution_count": 2,
   "metadata": {},
   "outputs": [],
   "source": [
    "# Configure libraries\n",
    "sns.set()\n",
    "\n",
    "# Round decimals when displaying DataFrames\n",
    "pd.set_option('precision', 4)"
   ]
  },
  {
   "cell_type": "code",
   "execution_count": 3,
   "metadata": {},
   "outputs": [],
   "source": [
    "# load dataset\n",
    "billboardWeekly = pd.read_csv('billboardHotWeekly.csv')"
   ]
  },
  {
   "cell_type": "code",
   "execution_count": 4,
   "metadata": {},
   "outputs": [],
   "source": [
    "# create a new dictionary and store the max number of weeks on chart for each song/instance\n",
    "dictSortIndex = {}\n",
    "# number of songs that have been #1 on the list\n",
    "peakList = []\n",
    "for row in billboardWeekly.itertuples():\n",
    "    # save to peak1 list\n",
    "    if row.PeakPosition == 1:\n",
    "        if not (row.SongID in peakList):\n",
    "            peakList.append(row.SongID)\n",
    "    # max weeks_on_chart\n",
    "    if row.SongID in dictSortIndex.keys():\n",
    "        if row.Instance in ((dictSortIndex[row.SongID]).keys()):\n",
    "            if (dictSortIndex[row.SongID])[row.Instance] < row.WeeksOnChart:\n",
    "                (dictSortIndex[row.SongID])[row.Instance] = row.WeeksOnChart\n",
    "        else:\n",
    "            (dictSortIndex[row.SongID])[row.Instance] = row.WeeksOnChart\n",
    "    else:\n",
    "        dictSortIndex[row.SongID] = {}\n",
    "        (dictSortIndex[row.SongID])[row.Instance] = row.WeeksOnChart"
   ]
  },
  {
   "cell_type": "code",
   "execution_count": 7,
   "metadata": {},
   "outputs": [
    {
     "name": "stdout",
     "output_type": "stream",
     "text": [
      "[\"Can't Stop The Feeling!Justin Timberlake\", 'Shape Of YouEd Sheeran', 'I Will Always Love YouWhitney Houston', 'I Gotta FeelingThe Black Eyed Peas', 'CloserThe Chainsmokers Featuring Halsey', 'See You AgainWiz Khalifa Featuring Charlie Puth', 'Monster MashBobby \"Boris\" Pickett And The Crypt-Kickers', 'I Like ItCardi B, Bad Bunny & J Balvin', 'SmoothSantana Featuring Rob Thomas', 'Somebody That I Used To KnowGotye Featuring Kimbra', 'Girls Like YouMaroon 5 Featuring Cardi B', 'DespacitoLuis Fonsi & Daddy Yankee Featuring Justin Bieber', 'Dark HorseKaty Perry Featuring Juicy J', 'Too CloseNext', 'Truly Madly DeeplySavage Garden', 'Uptown Funk!Mark Ronson Featuring Bruno Mars', 'Viva La VidaColdplay', 'Party Rock AnthemLMFAO Featuring Lauren Bennett & GoonRock', \"That's What I LikeBruno Mars\", 'PerfectEd Sheeran', 'Rolling In The DeepAdele', 'Red Red WineUB40', 'AmazedLonestar', 'All Of MeJohn Legend', 'Set Fire To The RainAdele', 'The TwistChubby Checker', \"Just DanceLady Gaga Featuring Colby O'Donis\", 'Macarena (Bayside Boys Mix)Los Del Rio', 'Cheap ThrillsSia Featuring Sean Paul']\n"
     ]
    }
   ],
   "source": [
    "# list of songs that have been popular for more than a year        \n",
    "popularSongs = []\n",
    "for pair1 in dictSortIndex:\n",
    "    tempSum = 0\n",
    "    for pair2 in dictSortIndex[pair1]:\n",
    "        tempSum = tempSum + dictSortIndex[pair1][pair2]\n",
    "    if tempSum >= 51:\n",
    "        popularSongs.append(pair1)\n",
    "# percentage of songs that have been popular for more than a year vs. total songs\n",
    "popularMoreThan1Yr = ((len(popularSongs))/(len(dictSortIndex.keys())))\n",
    "\n",
    "# songs that have been #1 & were popular for more than a year\n",
    "superPopular = []\n",
    "for song in peakList:\n",
    "    if song in popularSongs:\n",
    "        superPopular.append(song)"
   ]
  },
  {
   "cell_type": "code",
   "execution_count": null,
   "metadata": {},
   "outputs": [],
   "source": []
  }
 ],
 "metadata": {
  "kernelspec": {
   "display_name": "Python 3",
   "language": "python",
   "name": "python3"
  },
  "language_info": {
   "codemirror_mode": {
    "name": "ipython",
    "version": 3
   },
   "file_extension": ".py",
   "mimetype": "text/x-python",
   "name": "python",
   "nbconvert_exporter": "python",
   "pygments_lexer": "ipython3",
   "version": "3.6.7"
  }
 },
 "nbformat": 4,
 "nbformat_minor": 2
}
