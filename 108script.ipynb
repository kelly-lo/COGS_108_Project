{
 "cells": [
  {
   "cell_type": "code",
   "execution_count": 37,
   "metadata": {},
   "outputs": [],
   "source": [
    "%matplotlib inline\n",
    "\n",
    "# Import libraries\n",
    "import numpy as np\n",
    "import pandas as pd\n",
    "import matplotlib.pyplot as plt\n",
    "import seaborn as sns"
   ]
  },
  {
   "cell_type": "code",
   "execution_count": 38,
   "metadata": {},
   "outputs": [],
   "source": [
    "# Configure libraries\n",
    "sns.set()\n",
    "\n",
    "# Round decimals when displaying DataFrames\n",
    "pd.set_option('precision', 4)"
   ]
  },
  {
   "cell_type": "code",
   "execution_count": 39,
   "metadata": {},
   "outputs": [],
   "source": [
    "# load dataset\n",
    "billboardWeekly = pd.read_csv('billboardHotWeekly.csv')"
   ]
  },
  {
   "cell_type": "code",
   "execution_count": 40,
   "metadata": {},
   "outputs": [],
   "source": [
    "# create a new dictionary and store the max number of weeks on chart for each song/instance\n",
    "dictSortIndex = {}\n",
    "for row in billboardWeekly.itertuples():\n",
    "    if row.SongID in dictSortIndex.keys():\n",
    "        if row.Instance in ((dictSortIndex[row.SongID]).keys()):\n",
    "            if (dictSortIndex[row.SongID])[row.Instance] < row.WeeksOnChart:\n",
    "                (dictSortIndex[row.SongID])[row.Instance] = row.WeeksOnChart\n",
    "        else:\n",
    "            (dictSortIndex[row.SongID])[row.Instance] = row.WeeksOnChart\n",
    "    else:\n",
    "        dictSortIndex[row.SongID] = {}\n",
    "        (dictSortIndex[row.SongID])[row.Instance] = row.WeeksOnChart"
   ]
  }
 ],
 "metadata": {
  "kernelspec": {
   "display_name": "Python 3",
   "language": "python",
   "name": "python3"
  },
  "language_info": {
   "codemirror_mode": {
    "name": "ipython",
    "version": 3
   },
   "file_extension": ".py",
   "mimetype": "text/x-python",
   "name": "python",
   "nbconvert_exporter": "python",
   "pygments_lexer": "ipython3",
   "version": "3.6.7"
  }
 },
 "nbformat": 4,
 "nbformat_minor": 2
}
