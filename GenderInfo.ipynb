{
 "cells": [
  {
   "cell_type": "code",
   "execution_count": 81,
   "metadata": {},
   "outputs": [],
   "source": [
    "import pandas as pd\n",
    "import numpy as np\n",
    "import csv\n",
    "import matplotlib.pyplot as plt\n",
    "import datetime"
   ]
  },
  {
   "cell_type": "code",
   "execution_count": 82,
   "metadata": {},
   "outputs": [],
   "source": [
    "import os\n",
    "for dirname, _, filenames in os.walk('/kaggle/input'):\n",
    "    for filename in filenames:\n",
    "        print(os.path.join(dirname, filename))"
   ]
  },
  {
   "cell_type": "code",
   "execution_count": 83,
   "metadata": {},
   "outputs": [
    {
     "name": "stdout",
     "output_type": "stream",
     "text": [
      "                 artist  gender                       category\n",
      "0              12 Gauge    male  African-American_male_rappers\n",
      "1                  1987    male           Swedish_male_singers\n",
      "2              2 Chainz    male  African-American_male_rappers\n",
      "3             2 Pistols    male  African-American_male_rappers\n",
      "4             21 Savage    male  African-American_male_rappers\n",
      "...                 ...     ...                            ...\n",
      "23172     Øystein Sunde    male                Male_guitarists\n",
      "23173      Øyvind Nypan    male                Male_guitarists\n",
      "23174  Úna MacLochlainn  female           Irish_female_singers\n",
      "23175      Úna Palliser  female           Irish_female_singers\n",
      "23176      ?ebnem Ferah  female            Female_rock_singers\n",
      "\n",
      "[23177 rows x 3 columns]\n"
     ]
    }
   ],
   "source": [
    "df1 = pd.read_csv('singers_gender (1).csv', encoding= 'latin1') \n",
    "print(df1)"
   ]
  },
  {
   "cell_type": "code",
   "execution_count": 84,
   "metadata": {},
   "outputs": [],
   "source": [
    "df1= df1.dropna(subset= ['gender'])\n",
    "#dropping any entries with no value"
   ]
  },
  {
   "cell_type": "code",
   "execution_count": 85,
   "metadata": {},
   "outputs": [],
   "source": [
    "df1=df1.rename(columns= {'artist':'Perfomer'})\n",
    "#renaming the artist column as performer\n",
    "#column now matches the billdboard hot 100 data set"
   ]
  },
  {
   "cell_type": "code",
   "execution_count": 86,
   "metadata": {},
   "outputs": [
    {
     "data": {
      "text/plain": [
       "American_male_guitarists                      3673\n",
       "American_male_singers                         2257\n",
       "American_female_singers                       2042\n",
       "Male_guitarists                               1600\n",
       "American_country_singers                      1368\n",
       "English_male_singers                          1320\n",
       "African-American_male_rappers                  938\n",
       "Canadian_male_singers                          733\n",
       "American_male_singer-songwriters               719\n",
       "English_female_singers                         675\n",
       "American_female_country_singers                579\n",
       "American_female_singer-songwriters             572\n",
       "African-American_female_singers                459\n",
       "American_female_guitarists                     458\n",
       "Australian_male_singers                        439\n",
       "French_male_singers                            410\n",
       "Swedish_female_singers                         371\n",
       "Canadian_female_singers                        368\n",
       "French_female_singers                          308\n",
       "African-American_male_singers                  301\n",
       "Swedish_male_singers                           297\n",
       "American_female_pop_singers                    295\n",
       "Australian_female_singers                      259\n",
       "American_male_rappers                          220\n",
       "Canadian_female_pop_singers                    212\n",
       "British_female_singers                         209\n",
       "Male_songwriters                               202\n",
       "American_female_jazz_singers                   194\n",
       "English_male_composers                         191\n",
       "English_female_pop_singers                     190\n",
       "African-American_female_singer-songwriters     187\n",
       "British_male_singers                           174\n",
       "Irish_female_singers                           172\n",
       "Scottish_male_singers                          119\n",
       "Female_rock_singers                            114\n",
       "Australian_female_pop_singers                  106\n",
       "Welsh_male_singers                              82\n",
       "English_male_singer-songwriters                 81\n",
       "American_male_pop_singers                       69\n",
       "American_female_rock_singers                    56\n",
       "English_female_singer-songwriters               56\n",
       "American_crooners                               32\n",
       "English_female_rappers                          32\n",
       "New_Zealand_female_pop_singers                  20\n",
       "Male_new_wave_singers                           11\n",
       "Female_hip_hop_musicians                         7\n",
       "Name: category, dtype: int64"
      ]
     },
     "execution_count": 86,
     "metadata": {},
     "output_type": "execute_result"
    }
   ],
   "source": [
    "df1['category'].value_counts()\n",
    "#list of types of artists, including ethnicity and music style"
   ]
  },
  {
   "cell_type": "code",
   "execution_count": 87,
   "metadata": {},
   "outputs": [],
   "source": [
    "df1=df1.drop(['category'], axis=1)\n",
    "#after looking at category (just for fun), i dropped it because it was not needed"
   ]
  },
  {
   "cell_type": "code",
   "execution_count": 88,
   "metadata": {},
   "outputs": [],
   "source": [
    "df2 = pd.read_csv('billboardHotWeekly.csv') "
   ]
  },
  {
   "cell_type": "code",
   "execution_count": 89,
   "metadata": {},
   "outputs": [],
   "source": [
    "#cleaning the data\n",
    "df2 = df2.drop_duplicates(subset='Song') #dropping songs that were on the top 100 mulitple times\n",
    "df2= df2.drop(['SongID', 'PreviousWeekPosition', 'PeakPosition', 'Week Position', 'Instance', 'url'], axis=1)\n",
    "#dropping the columns i won't be working with\n",
    "df2 = df2.reset_index(drop='True')"
   ]
  },
  {
   "cell_type": "code",
   "execution_count": 90,
   "metadata": {},
   "outputs": [
    {
     "data": {
      "text/plain": [
       "male      15236\n",
       "female     7941\n",
       "Name: gender, dtype: int64"
      ]
     },
     "execution_count": 90,
     "metadata": {},
     "output_type": "execute_result"
    }
   ],
   "source": [
    "df1['gender'].value_counts()"
   ]
  },
  {
   "cell_type": "code",
   "execution_count": 91,
   "metadata": {},
   "outputs": [
    {
     "data": {
      "image/png": "[encoded data removed]",
      "text/plain": [
       "<Figure size 432x288 with 1 Axes>"
      ]
     },
     "metadata": {},
     "output_type": "display_data"
    }
   ],
   "source": [
    "\n",
    "gender = [15236,7941]\n",
    "\n",
    "my_labels = 'male','female',\n",
    "my_colors = ['lightblue','lightsteelblue']\n",
    "my_explode = (0.1, 0)\n",
    "plt.pie(gender, labels=my_labels, autopct='%1.1f%%', startangle=15, shadow = True, colors=my_colors, explode=my_explode)\n",
    "plt.title('gender in the billboard hot 100')\n",
    "plt.axis('equal')\n",
    "plt.show()"
   ]
  },
  {
   "cell_type": "code",
   "execution_count": 92,
   "metadata": {
    "scrolled": false
   },
   "outputs": [
    {
     "name": "stdout",
     "output_type": "stream",
     "text": [
      "                             Song                           Performer  \\\n",
      "WeekID                                                                  \n",
      "1/1/1966                   I Will                         Dean Martin   \n",
      "1/1/1966       Puppet On A String  Elvis Presley With The Jordanaires   \n",
      "1/1/1966               Blue River                       Elvis Presley   \n",
      "1/1/1966        I Hear A Symphony                        The Supremes   \n",
      "1/1/1966                 Buckaroo        Buck Owens and The Buckaroos   \n",
      "...                           ...                                 ...   \n",
      "9/9/2017      Its Every Night Sis     RiceGum Featuring Alissa Violet   \n",
      "9/9/2017             Transportin'                         Kodak Black   \n",
      "9/9/2017                  For Her                          Chris Lane   \n",
      "9/9/2017               Rake It Up      Yo Gotti Featuring Nicki Minaj   \n",
      "9/9/2017  I Could Use A Love Song                        Maren Morris   \n",
      "\n",
      "          WeeksOnChart  Unnamed: 10  Unnamed: 11  \n",
      "WeekID                                            \n",
      "1/1/1966          10.0          NaN          NaN  \n",
      "1/1/1966           8.0          NaN          NaN  \n",
      "1/1/1966           1.0          NaN          NaN  \n",
      "1/1/1966          10.0          NaN          NaN  \n",
      "1/1/1966           8.0          NaN          NaN  \n",
      "...                ...          ...          ...  \n",
      "9/9/2017           1.0          NaN          NaN  \n",
      "9/9/2017           1.0          NaN          NaN  \n",
      "9/9/2017           4.0          NaN          NaN  \n",
      "9/9/2017           8.0          NaN          NaN  \n",
      "9/9/2017           2.0          NaN          NaN  \n",
      "\n",
      "[23410 rows x 5 columns]\n"
     ]
    }
   ],
   "source": [
    "df2 = df2.sort_values(by='WeekID')\n",
    "df2 = df2.set_index(['WeekID'])\n",
    "print(df2)"
   ]
  },
  {
   "cell_type": "code",
   "execution_count": 93,
   "metadata": {},
   "outputs": [
    {
     "ename": "SyntaxError",
     "evalue": "can't assign to literal (<ipython-input-93-abc062247bdd>, line 1)",
     "output_type": "error",
     "traceback": [
      "\u001b[0;36m  File \u001b[0;32m\"<ipython-input-93-abc062247bdd>\"\u001b[0;36m, line \u001b[0;32m1\u001b[0m\n\u001b[0;31m    'sixties'= df2.loc['1/1/66':'12/31/69']\u001b[0m\n\u001b[0m                                           ^\u001b[0m\n\u001b[0;31mSyntaxError\u001b[0m\u001b[0;31m:\u001b[0m can't assign to literal\n"
     ]
    }
   ],
   "source": [
    "'sixties'= df2.loc['1/1/66':'12/31/69']\n",
    "'seventies'= df2.loc['1/1/70':'12/31/79']\n",
    "'eighties'= df2.loc['1/1/80':'12/31/89']\n",
    "'nineties'= df2.loc['1/1/90':'12/31/99']\n",
    "'oughts'= df2.loc['1/1/00':'12/31/09']\n",
    "'tens'= df2.loc['1/1/10':'9/9/17']"
   ]
  },
  {
   "cell_type": "code",
   "execution_count": null,
   "metadata": {},
   "outputs": [],
   "source": [
    "df1['Performer'].isin(df2['Performer']).valuecounts()"
   ]
  },
  {
   "cell_type": "code",
   "execution_count": null,
   "metadata": {},
   "outputs": [],
   "source": [
    "df = pd.merge(df1,\n",
    "                 df2[['Performer', 'WeekID']],\n",
    "                 on='Performer')\n",
    "df.head()\n",
    "#merge the two dataframes into one using Performer as the common value"
   ]
  },
  {
   "cell_type": "code",
   "execution_count": null,
   "metadata": {},
   "outputs": [],
   "source": [
    "N = 6\n",
    "men = (value, value, value, value, value, value)\n",
    "\n",
    "fig, ax = plt.subplots()\n",
    "\n",
    "ind = np.arange(N)    # the x locations for the groups\n",
    "width = 0.35         # the width of the bars\n",
    "p1 = ax.bar(ind, men, width, bottom=0*cm)\n",
    "\n",
    "\n",
    "women= (value, value, value, value, value)\n",
    "p2 = ax.bar(ind + width, women, width, bottom=0*cm)\n",
    "\n",
    "ax.set_title('Songs on the Hot 100 by group and gender')\n",
    "ax.set_xticks(ind + width / 2)\n",
    "ax.set_xticklabels(('sixties'', 'seventies', 'eighties', 'nineties', 'oughts', 'tens'))\n",
    "\n",
    "ax.legend((p1[0], p2[0]), ('Men', 'Women'))\n",
    "ax.autoscale_view()\n",
    "\n",
    "plt.show()"
   ]
  },
  {
   "cell_type": "code",
   "execution_count": null,
   "metadata": {},
   "outputs": [],
   "source": [
    "print(df)"
   ]
  },
  {
   "cell_type": "code",
   "execution_count": null,
   "metadata": {},
   "outputs": [],
   "source": []
  }
 ],
 "metadata": {
  "kernelspec": {
   "display_name": "Python 3",
   "language": "python",
   "name": "python3"
  },
  "language_info": {
   "codemirror_mode": {
    "name": "ipython",
    "version": 3
   },
   "file_extension": ".py",
   "mimetype": "text/x-python",
   "name": "python",
   "nbconvert_exporter": "python",
   "pygments_lexer": "ipython3",
   "version": "3.6.7"
  }
 },
 "nbformat": 4,
 "nbformat_minor": 2
}
