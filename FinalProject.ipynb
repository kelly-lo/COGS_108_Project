{
 "cells": [
  {
   "cell_type": "markdown",
   "metadata": {},
   "source": [
    "# COGS 108 - Final Project - Analysis of Popular Music Through Billboard Mainstays"
   ]
  },
  {
   "cell_type": "markdown",
   "metadata": {},
   "source": [
    "# Overview"
   ]
  },
  {
   "cell_type": "markdown",
   "metadata": {},
   "source": [
    "*TODO*"
   ]
  },
  {
   "cell_type": "markdown",
   "metadata": {},
   "source": [
    "# Names\n",
    "\n",
    "- Caroline Sih\n",
    "- Kelly Lo\n",
    "- Chuyue Zhang\n",
    "- Emma Leng\n",
    "- Abigail Sigler"
   ]
  },
  {
   "cell_type": "markdown",
   "metadata": {},
   "source": [
    "# Group Members IDs\n",
    "\n",
    "- A14491488\n",
    "- A15435725\n",
    "- A14803791\n",
    "- A########\n",
    "- A14462479"
   ]
  },
  {
   "cell_type": "markdown",
   "metadata": {},
   "source": [
    "# Research Question"
   ]
  },
  {
   "cell_type": "markdown",
   "metadata": {},
   "source": [
    "*What are the common qualities of songs that make the Billboard Top 100 for more than one year, and do these qualities change over time?*"
   ]
  },
  {
   "cell_type": "markdown",
   "metadata": {},
   "source": [
    "## Background and Prior Work"
   ]
  },
  {
   "cell_type": "markdown",
   "metadata": {},
   "source": [
    "*Music has always been a major part of American society, and songs often reflect current events and cultural sentiment that is present in society at the time of their creation. Although most songs that experience popularity retain it only for a short period of time, some songs have stayed culturally relevant and popular over longer periods of time, and even decades.* \n",
    "\n",
    "*One of the most widely accepted measurements of musical popularity is the Billboard Top 100 chart, which releases a ranking of the best-performing songs in the United States each week. Each year, these consecutive rankings are combined to create a Top 100 chart for the entire year, which is a fair estimate of song popularity and their relevance in society for that period of time*\n",
    "\n",
    "*Because music can be a response to current events and plays an important role in American society, the popularity of songs during a given year--and thus their presence on the Billboard Top 100--can be established to reflect their relevance in American culture. The common factors within these songs that persist in cultural relevance over time can be examined as an insight into American society.* \n",
    "\n",
    "References (include links):\n",
    "- 1) https://data.world/kcmillersean/billboard-hot-100-1958-2017?fbclid=IwAR1P5o2E5IO19nJJSB5PjouSlIoIqRuPT0sDCZQrDqrj3XNm65LF-pRQNKA\n",
    "\n",
    "- 2) https://spotipy.readthedocs.io/en/latest/"
   ]
  },
  {
   "cell_type": "markdown",
   "metadata": {},
   "source": [
    "# Hypothesis\n"
   ]
  },
  {
   "cell_type": "markdown",
   "metadata": {},
   "source": [
    "*We expect to see an increasing trend of globalization and diversity of gender and race of popular artists as time goes on, but a more explicit divide between incredibly popular, viral songs thanks to the advent of social media.*"
   ]
  },
  {
   "cell_type": "markdown",
   "metadata": {},
   "source": [
    "# Dataset(s)"
   ]
  },
  {
   "cell_type": "markdown",
   "metadata": {},
   "source": [
    "*Fill in your dataset information here*\n",
    "\n",
    "(Copy this information for each dataset)\n",
    "- Dataset Name:\n",
    "- Link to the dataset:\n",
    "- Number of observations:\n",
    "\n",
    "1-2 sentences describing each dataset. \n",
    "\n",
    "If you plan to use multiple datasets, add 1-2 sentences about how you plan to combine these datasets."
   ]
  },
  {
   "cell_type": "markdown",
   "metadata": {},
   "source": [
    "# Setup"
   ]
  },
  {
   "cell_type": "code",
   "execution_count": 1,
   "metadata": {},
   "outputs": [],
   "source": [
    "%matplotlib inline\n",
    "\n",
    "# Import libraries\n",
    "import numpy as np\n",
    "import pandas as pd\n",
    "import matplotlib.pyplot as plt\n",
    "import matplotlib.cm as pltcm\n",
    "import seaborn as sns\n",
    "\n",
    "# Configure libraries\n",
    "sns.set()\n",
    "\n",
    "# Round decimals when displaying DataFrames\n",
    "pd.set_option('precision', 4)"
   ]
  },
  {
   "cell_type": "markdown",
   "metadata": {},
   "source": [
    "# Data Cleaning"
   ]
  },
  {
   "cell_type": "markdown",
   "metadata": {},
   "source": [
    "Describe your data cleaning steps here."
   ]
  },
  {
   "cell_type": "code",
   "execution_count": 2,
   "metadata": {},
   "outputs": [],
   "source": [
    "# load dataset\n",
    "billboardWeekly = pd.read_csv('billboardHotWeekly.csv')"
   ]
  },
  {
   "cell_type": "code",
   "execution_count": 3,
   "metadata": {},
   "outputs": [],
   "source": [
    "# create a new dictionary and store the max number of weeks on chart for each song/instance\n",
    "dictSortIndex = {}\n",
    "# number of songs that have been #1 on the list\n",
    "peakList = []\n",
    "# a list of all the song names\n",
    "songNames = []\n",
    "\n",
    "for row in billboardWeekly.itertuples():\n",
    "    # save to peak1 list\n",
    "    if row.PeakPosition == 1:\n",
    "        if not (row.SongID in peakList):\n",
    "            peakList.append(row.SongID)\n",
    "    # max weeks_on_chart\n",
    "    if row.SongID in dictSortIndex.keys():\n",
    "        if row.Instance in ((dictSortIndex[row.SongID]).keys()):\n",
    "            if (dictSortIndex[row.SongID])[row.Instance] < row.WeeksOnChart:\n",
    "                (dictSortIndex[row.SongID])[row.Instance] = row.WeeksOnChart\n",
    "        else:\n",
    "            (dictSortIndex[row.SongID])[row.Instance] = row.WeeksOnChart\n",
    "    else:\n",
    "        songNames.append(row.Song)\n",
    "        dictSortIndex[row.SongID] = {}\n",
    "        (dictSortIndex[row.SongID])[row.Instance] = row.WeeksOnChart"
   ]
  },
  {
   "cell_type": "code",
   "execution_count": 4,
   "metadata": {},
   "outputs": [],
   "source": [
    "# list of songs that have been popular for more than a year        \n",
    "popularSongs = []\n",
    "for pair1 in dictSortIndex:\n",
    "    tempSum = 0\n",
    "    for pair2 in dictSortIndex[pair1]:\n",
    "        tempSum = tempSum + dictSortIndex[pair1][pair2]\n",
    "    if tempSum >= 51:\n",
    "        popularSongs.append(pair1)\n",
    "        \n",
    "# percentage of songs that have been popular for more than a year vs. total songs\n",
    "popularMoreThan1Yr = ((len(popularSongs))/(len(dictSortIndex.keys())))\n",
    "\n",
    "# songs that have been #1 & were popular for more than a year\n",
    "superPopular = []\n",
    "for song in peakList:\n",
    "    if song in popularSongs:\n",
    "        superPopular.append(song)"
   ]
  },
  {
   "cell_type": "code",
   "execution_count": 5,
   "metadata": {},
   "outputs": [],
   "source": [
    "# This is for songs that have reached the #1 on the chart\n",
    "numOne = {}\n",
    "for key in peakList:\n",
    "    yr = billboardWeekly[billboardWeekly.SongID == key].WeekID.iloc[0].split('/')[2]\n",
    "    if(yr in numOne.keys()):\n",
    "        numOne[yr] += 1\n",
    "    else:\n",
    "        numOne[yr] = 1"
   ]
  },
  {
   "cell_type": "code",
   "execution_count": 6,
   "metadata": {},
   "outputs": [],
   "source": [
    "# 1: number of songs with more than one instance on the charts\n",
    "yearToInstance = {}\n",
    "for key, value in dictSortIndex.items():\n",
    "    if len(value.keys()) > 1:\n",
    "        yr = billboardWeekly[billboardWeekly.SongID == key].WeekID.iloc[0].split('/')[2]\n",
    "        if(yr in yearToInstance.keys()):\n",
    "            yearToInstance[yr] += 1\n",
    "        else:\n",
    "            yearToInstance[yr] = 1"
   ]
  },
  {
   "cell_type": "markdown",
   "metadata": {},
   "source": [
    "# Data Analysis & Results"
   ]
  },
  {
   "cell_type": "markdown",
   "metadata": {},
   "source": [
    "Include cells that describe the steps in your data analysis."
   ]
  },
  {
   "cell_type": "code",
   "execution_count": 7,
   "metadata": {},
   "outputs": [
    {
     "name": "stdout",
     "output_type": "stream",
     "text": [
      "    Year  Songs\n",
      "3   1958      8\n",
      "39  1959     17\n",
      "58  1960     20\n",
      "57  1961     19\n",
      "40  1962     19\n",
      "..   ...    ...\n",
      "28  2015      8\n",
      "11  2016     10\n",
      "12  2017     10\n",
      "13  2018     13\n",
      "14  2019      3\n",
      "\n",
      "[62 rows x 2 columns]\n"
     ]
    },
    {
     "data": {
      "image/png": "[encoded data removed]",
      "text/plain": [
       "<Figure size 432x288 with 1 Axes>"
      ]
     },
     "metadata": {
      "needs_background": "light"
     },
     "output_type": "display_data"
    }
   ],
   "source": [
    "# histogram to map year against number of songs reaching number 1\n",
    "data = {'Year': list(numOne.keys()), 'Songs': list(numOne.values())}\n",
    "numOneDF = pd.DataFrame(data)\n",
    "numOneDF = numOneDF.sort_values(\"Year\")\n",
    "print(numOneDF)\n",
    "numOneDF.plot(kind='bar', x= 'Year', y='Songs', color='blue')\n",
    "plt.savefig('YEARSx#SONGSREACHINGNUM1')\n",
    "plt.show()"
   ]
  },
  {
   "cell_type": "code",
   "execution_count": 8,
   "metadata": {},
   "outputs": [
    {
     "name": "stderr",
     "output_type": "stream",
     "text": [
      "/opt/conda/lib/python3.6/site-packages/ipykernel_launcher.py:2: MatplotlibDeprecationWarning: \n",
      "The 'normed' kwarg was deprecated in Matplotlib 2.1 and will be removed in 3.1. Use 'density' instead.\n",
      "  \n"
     ]
    },
    {
     "data": {
      "image/png": "[encoded data removed]",
      "text/plain": [
       "<Figure size 432x288 with 1 Axes>"
      ]
     },
     "metadata": {
      "needs_background": "light"
     },
     "output_type": "display_data"
    },
    {
     "data": {
      "text/plain": [
       "38"
      ]
     },
     "execution_count": 8,
     "metadata": {},
     "output_type": "execute_result"
    }
   ],
   "source": [
    "x = numOneDF['Songs']\n",
    "plt.hist(x, normed=True, bins=30)\n",
    "plt.savefig('YEARSx#SONGSREACHINGNUM1HIST')\n",
    "plt.show()\n",
    "x.max()"
   ]
  },
  {
   "cell_type": "code",
   "execution_count": 9,
   "metadata": {},
   "outputs": [
    {
     "data": {
      "image/png": "[encoded data removed]",
      "text/plain": [
       "<Figure size 432x288 with 1 Axes>"
      ]
     },
     "metadata": {
      "needs_background": "light"
     },
     "output_type": "display_data"
    }
   ],
   "source": [
    "numOneDF.plot(kind='bar', x= 'Year', y='Songs', color='red', alpha=0.5)\n",
    "plt.savefig('YEARSx#SONGSREACHINGNUM1')\n",
    "plt.ylabel('Songs')\n",
    "plt.title('#1 Hits by Year of Origin')\n",
    "plt.tight_layout()\n",
    "plt.show()"
   ]
  },
  {
   "cell_type": "code",
   "execution_count": 11,
   "metadata": {},
   "outputs": [
    {
     "ename": "SyntaxError",
     "evalue": "invalid syntax (<ipython-input-11-78713d5bcf4c>, line 1)",
     "output_type": "error",
     "traceback": [
      "\u001b[0;36m  File \u001b[0;32m\"<ipython-input-11-78713d5bcf4c>\"\u001b[0;36m, line \u001b[0;32m1\u001b[0m\n\u001b[0;31m    *This data illustrates the relationship between the number of songs reaching the #1 spot on the Billboard Weekly Top 100 at least once, and the songs' years of origin. Interestingly, this data is relatively bell-shaped, with a peak in 1975 of over 35 songs that would at different points in time appear on the Billboard Top 100 Charts in the #1 spot. Additionally, there is a trend of this number sharply decreasing over time; in 2016, there were less than 10 songs that made it to #1 on the charts.*\u001b[0m\n\u001b[0m             ^\u001b[0m\n\u001b[0;31mSyntaxError\u001b[0m\u001b[0;31m:\u001b[0m invalid syntax\n"
     ]
    }
   ],
   "source": [
    "* This data illustrates the relationship between the number of songs reaching the #1 spot on the Billboard Weekly Top 100 at least once, and the songs' years of origin. Interestingly, this data is relatively bell-shaped, with a peak in 1975 of over 35 songs that would at different points in time appear on the Billboard Top 100 Charts in the #1 spot. Additionally, there is a trend of this number sharply decreasing over time; in 2016, there were less than 10 songs that made it to #1 on the charts.*\n",
    "\n",
    "* are many factors that could create this phenomenon, one of which issimply the increasing divide between \"viralness\" and \"popularity\" as opposed to normality. As social media has influenced what consumers can see, viral trends such as Lil Nas X's \"Old Town Road\" have jumped into popularity--and stayed there, in the #1 spot, for weeks on end. Because these extremely popular songs remain in the spot for so long, despite the increasing globalization and diversity of the music industry, most songs will never make it into that spot of #1 because it is taken by long-lasting songs.*"
   ]
  },
  {
   "cell_type": "code",
   "execution_count": null,
   "metadata": {},
   "outputs": [],
   "source": [
    "data = {'Year': list(yearToInstance.keys()), 'Songs': list(yearToInstance.values())}\n",
    "yearInstanceDF = pd.DataFrame(data)\n",
    "yearInstanceDF = yearInstanceDF.sort_values(\"Year\")\n",
    "print(yearInstanceDF)\n",
    "yearInstanceDF.plot(kind='bar', x= 'Year', y='Songs', color='blue')\n",
    "plt.savefig('YEARSxMUL_INSTANCES')\n",
    "#pltcm.register_cmap(name='swirly', cmap=swirly_cmap)\n",
    "plt.show()"
   ]
  },
  {
   "cell_type": "code",
   "execution_count": null,
   "metadata": {},
   "outputs": [],
   "source": [
    "This data illustrates the mapping of each year (on the x axis) to the number of songs with more than one instance of appearing on the Billboard Weekly Top 100. Songs that are extremely popular by this metric are therefore becoming increasingly more common as time goes on, as demonstrated by the sharp rise since the mid-1970s (in which appeared very few songs with more than one instance).\n",
    "\n",
    "Another factor at play here is the resurgence of many songs, as mainstream fascination with past culture has seen a heighted presence in recent years. For instance, popular songs by ABBA and The Beatles have had resurgences in recent years, demonstrating the enduring nature of music and artists who have remained relevant to the public eye.\n",
    "\n",
    "An additional factor in recurring songs is that holiday songs, such as Christmas or Halloween songs, have a sharp seasonal ebb and flow that would lend themselves toward higher representation on these lists. Because they regain spots on the list seasonally, they would be more highly represented here than a song that is extremely popular but fades in popularity eventually without resurgence.\n",
    "\n",
    "Factors to explore in the future include the high density of songs that have seen resurgences peaking in the early 1960s."
   ]
  },
  {
   "cell_type": "code",
   "execution_count": null,
   "metadata": {},
   "outputs": [],
   "source": []
  },
  {
   "cell_type": "code",
   "execution_count": null,
   "metadata": {},
   "outputs": [],
   "source": []
  },
  {
   "cell_type": "code",
   "execution_count": 5,
   "metadata": {},
   "outputs": [],
   "source": [
    "# Spotify API setup\n",
    "import spotipy\n",
    "import requests\n",
    "import json\n",
    "\n",
    "from spotipy.oauth2 import SpotifyClientCredentials\n",
    "# Set up credentials\n",
    "client_credentials_manager = SpotifyClientCredentials('84b5738225894c76aecf0578c6ff2862', '89d0aeb4ee7c4841b5800cd068ee3f69')\n",
    "sp = spotipy.Spotify(client_credentials_manager = client_credentials_manager)\n",
    "songURLs = {}\n",
    "\n",
    "totalDanc = 0\n",
    "for names in songNames:\n",
    "    count = 0\n",
    "    if (len(sp.search(names)['tracks']['items'])) > 0:\n",
    "        temp = (sp.search(\"Despacito\")['tracks']['items'][0]['uri'])\n",
    "        danc = (sp.audio_features(temp)[0]['danceability'])\n",
    "        songURLs[names] = danc\n",
    "        totalDanc = totalDanc + danc"
   ]
  },
  {
   "cell_type": "markdown",
   "metadata": {},
   "source": [
    "# Ethics & Privacy"
   ]
  },
  {
   "cell_type": "markdown",
   "metadata": {},
   "source": [
    "*Fill in your ethics & privacy discussion here*"
   ]
  },
  {
   "cell_type": "markdown",
   "metadata": {},
   "source": [
    "# Conclusion & Discussion"
   ]
  },
  {
   "cell_type": "markdown",
   "metadata": {},
   "source": [
    "*Fill in your discussion information here*"
   ]
  }
 ],
 "metadata": {
  "kernelspec": {
   "display_name": "Python 3",
   "language": "python",
   "name": "python3"
  },
  "language_info": {
   "codemirror_mode": {
    "name": "ipython",
    "version": 3
   },
   "file_extension": ".py",
   "mimetype": "text/x-python",
   "name": "python",
   "nbconvert_exporter": "python",
   "pygments_lexer": "ipython3",
   "version": "3.6.7"
  }
 },
 "nbformat": 4,
 "nbformat_minor": 2
}
