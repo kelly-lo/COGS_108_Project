{
 "cells": [
  {
   "cell_type": "code",
   "execution_count": 31,
   "metadata": {},
   "outputs": [],
   "source": [
    "%matplotlib inline\n",
    "\n",
    "# Import libraries\n",
    "import numpy as np\n",
    "import pandas as pd\n",
    "import matplotlib.pyplot as plt\n",
    "import matplotlib.cm as pltcm\n",
    "import seaborn as sns"
   ]
  },
  {
   "cell_type": "code",
   "execution_count": 32,
   "metadata": {},
   "outputs": [],
   "source": [
    "# Configure libraries\n",
    "sns.set()\n",
    "\n",
    "# Round decimals when displaying DataFrames\n",
    "pd.set_option('precision', 4)"
   ]
  },
  {
   "cell_type": "code",
   "execution_count": 33,
   "metadata": {},
   "outputs": [],
   "source": [
    "# load dataset\n",
    "billboardWeekly = pd.read_csv('billboardHotWeekly.csv')"
   ]
  },
  {
   "cell_type": "code",
   "execution_count": 34,
   "metadata": {},
   "outputs": [],
   "source": [
    "# create a new dictionary and store the max number of weeks on chart for each song/instance\n",
    "dictSortIndex = {}\n",
    "# number of songs that have been #1 on the list\n",
    "peakList = []\n",
    "for row in billboardWeekly.itertuples():\n",
    "    # save to peak1 list\n",
    "    if row.PeakPosition == 1:\n",
    "        if not (row.SongID in peakList):\n",
    "            peakList.append(row.SongID)\n",
    "    # max weeks_on_chart\n",
    "    if row.SongID in dictSortIndex.keys():\n",
    "        if row.Instance in ((dictSortIndex[row.SongID]).keys()):\n",
    "            if (dictSortIndex[row.SongID])[row.Instance] < row.WeeksOnChart:\n",
    "                (dictSortIndex[row.SongID])[row.Instance] = row.WeeksOnChart\n",
    "        else:\n",
    "            (dictSortIndex[row.SongID])[row.Instance] = row.WeeksOnChart\n",
    "    else:\n",
    "        dictSortIndex[row.SongID] = {}\n",
    "        (dictSortIndex[row.SongID])[row.Instance] = row.WeeksOnChart\n"
   ]
  },
  {
   "cell_type": "code",
   "execution_count": 35,
   "metadata": {},
   "outputs": [
    {
     "name": "stdout",
     "output_type": "stream",
     "text": [
      "{'1989': 30, '1988': 29, '1985': 26, '1958': 8, '1995': 11, '1997': 11, '2006': 16, '2009': 13, '2011': 11, '2012': 10, '2014': 8, '2016': 10, '2017': 10, '2018': 13, '2019': 3, '1966': 25, '1990': 30, '1964': 22, '1967': 20, '1965': 26, '1987': 30, '1974': 34, '1982': 16, '1998': 15, '2004': 11, '2005': 10, '2010': 21, '2013': 11, '2015': 8, '1963': 21, '1968': 14, '1969': 19, '1970': 20, '1975': 38, '1992': 9, '1994': 8, '1999': 15, '2007': 17, '2008': 14, '1959': 17, '1962': 19, '1972': 21, '1976': 27, '1977': 23, '1978': 19, '1979': 25, '1980': 14, '1981': 16, '1983': 15, '1984': 21, '1986': 31, '1993': 11, '2000': 16, '2002': 9, '2003': 10, '1991': 25, '2001': 12, '1961': 19, '1960': 20, '1996': 7, '1971': 18, '1973': 31}\n"
     ]
    }
   ],
   "source": [
    "# This is for songs that have reached the #1 on the chart\n",
    "numOne = {}\n",
    "for key in peakList:\n",
    "    yr = billboardWeekly[billboardWeekly.SongID == key].WeekID.iloc[0].split('/')[2]\n",
    "    if(yr in numOne.keys()):\n",
    "        numOne[yr] += 1\n",
    "    else:\n",
    "        numOne[yr] = 1\n",
    "print(numOne)"
   ]
  },
  {
   "cell_type": "code",
   "execution_count": 36,
   "metadata": {},
   "outputs": [
    {
     "name": "stdout",
     "output_type": "stream",
     "text": [
      "    Year  Songs\n",
      "3   1958      8\n",
      "39  1959     17\n",
      "58  1960     20\n",
      "57  1961     19\n",
      "40  1962     19\n",
      "..   ...    ...\n",
      "28  2015      8\n",
      "11  2016     10\n",
      "12  2017     10\n",
      "13  2018     13\n",
      "14  2019      3\n",
      "\n",
      "[62 rows x 2 columns]\n"
     ]
    },
    {
     "data": {
      "image/png": "[encoded data removed]",
      "text/plain": [
       "<Figure size 432x288 with 1 Axes>"
      ]
     },
     "metadata": {},
     "output_type": "display_data"
    }
   ],
   "source": [
    "# histogram to map year against number of songs reaching number 1\n",
    "data = {'Year': list(numOne.keys()), 'Songs': list(numOne.values())}\n",
    "numOneDF = pd.DataFrame(data)\n",
    "numOneDF = numOneDF.sort_values(\"Year\")\n",
    "print(numOneDF)\n",
    "numOneDF.plot(kind='bar', x= 'Year', y='Songs', color='blue')\n",
    "plt.savefig('YEARSx#SONGSREACHINGNUM1')\n",
    "plt.show()"
   ]
  },
  {
   "cell_type": "code",
   "execution_count": 37,
   "metadata": {},
   "outputs": [
    {
     "name": "stderr",
     "output_type": "stream",
     "text": [
      "/opt/conda/lib/python3.6/site-packages/ipykernel_launcher.py:2: MatplotlibDeprecationWarning: \n",
      "The 'normed' kwarg was deprecated in Matplotlib 2.1 and will be removed in 3.1. Use 'density' instead.\n",
      "  \n"
     ]
    },
    {
     "data": {
      "image/png": "[encoded data removed]",
      "text/plain": [
       "<Figure size 432x288 with 1 Axes>"
      ]
     },
     "metadata": {},
     "output_type": "display_data"
    },
    {
     "data": {
      "text/plain": [
       "38"
      ]
     },
     "execution_count": 37,
     "metadata": {},
     "output_type": "execute_result"
    }
   ],
   "source": [
    "x = numOneDF['Songs']\n",
    "plt.hist(x, normed=True, bins=30)\n",
    "plt.savefig('YEARSx#SONGSREACHINGNUM1HIST')\n",
    "plt.show()\n",
    "#x.mean()\n",
    "#x.median()\n",
    "#x.mode()\n",
    "x.max()"
   ]
  },
  {
   "cell_type": "markdown",
   "metadata": {},
   "source": [
    "This histogram shows the distribution of songs as grouped by year, to see whatthe typical year has in terms of number of songs per year. The mean number of songs that hit #1 per year is 17.56, while the median is 16. \n",
    "\n",
    "This skew is primarily due to the maximum of 38, which skews the data toward higher numbers of songs per year due to outlying years. The mode of 11 is extremely prevalent, with over 14% of all years containing exactly 11 #1 singles on the Billboard Top 100."
   ]
  },
  {
   "cell_type": "code",
   "execution_count": 38,
   "metadata": {},
   "outputs": [
    {
     "data": {
      "image/png": "[encoded data removed]",
      "text/plain": [
       "<Figure size 432x288 with 1 Axes>"
      ]
     },
     "metadata": {},
     "output_type": "display_data"
    }
   ],
   "source": [
    "# is there a way to combine bars of the graph (ex. grouping of 5 years)\n",
    "# or do I actually have to manipulate the data?\n",
    "numOneDF.plot(kind='bar', x= 'Year', y='Songs', color='red', alpha=0.5)\n",
    "plt.savefig('YEARSx#SONGSREACHINGNUM1')\n",
    "plt.ylabel('Songs')\n",
    "plt.title('#1 Hits by Year of Origin')\n",
    "plt.tight_layout()\n",
    "plt.show()"
   ]
  },
  {
   "cell_type": "markdown",
   "metadata": {},
   "source": [
    "This data illustrates the relationship between the number of songs reaching the #1 spot on the Billboard Weekly Top 100 at least once, and the songs' years of origin. Interestingly, this data is relatively bell-shaped, with a peak in 1975 of over 35 songs that would at different points in time appear on the Billboard Top 100 Charts in the #1 spot. Additionally, there is a trend of this number sharply decreasing over time; in 2016, there were less than 10 songs that made it to #1 on the charts. \n",
    "\n",
    "There are many factors that could create this phenomenon, one of which issimply the increasing divide between \"viralness\" and \"popularity\" as opposed to normality. As social media has influenced what consumers can see, viral trends such as Lil Nas X's \"Old Town Road\" have jumped into popularity--and stayed there, in the #1 spot, for weeks on end. Because these extremely popular songs remain in the spot for so long, despite the increasing globalization and diversity of the music industry, most songs will never make it into that spot of #1 because it is taken by long-lasting songs. \n",
    "\n",
    "## show that old town road is the longest lasting top 100 song as numer 1"
   ]
  },
  {
   "cell_type": "code",
   "execution_count": 39,
   "metadata": {},
   "outputs": [
    {
     "name": "stdout",
     "output_type": "stream",
     "text": [
      "{'1958': 42, '2013': 81, '2009': 87, '2010': 90, '2012': 82, '1997': 10, '2006': 61, '2016': 93, '2011': 99, '2018': 102, '1962': 69, '1961': 59, '1963': 49, '1967': 25, '2007': 54, '2008': 73, '1969': 22, '2014': 74, '2017': 84, '1979': 2, '1960': 50, '2004': 14, '1968': 11, '1984': 9, '2015': 73, '1985': 6, '2005': 52, '2001': 14, '1998': 16, '1983': 8, '1975': 20, '1964': 32, '2019': 26, '2000': 17, '2002': 11, '1976': 12, '1977': 9, '1959': 44, '2003': 12, '1986': 6, '1982': 6, '1992': 7, '1996': 5, '1970': 27, '1965': 18, '1995': 13, '1971': 16, '1972': 6, '1999': 14, '1987': 5, '1974': 4, '1973': 11, '1991': 2, '1994': 2, '1993': 3, '1990': 2, '1966': 12, '1978': 6, '1980': 2, '1989': 1, '1981': 3, '1988': 1}\n"
     ]
    }
   ],
   "source": [
    "# 1: number of songs with more than one instance on the charts\n",
    "#total = 0\n",
    "#songsWithInstances = []\n",
    "#for key, value in dictSortIndex.items():\n",
    "#    if len(value.keys()) > 1:\n",
    "#        songsWithInstances += [key]\n",
    "#print(songsWithInstances)\n",
    "#print(len(songsWithInstances)) # 1866 songs with more than one instance\n",
    "#instancesToYear = {}\n",
    "#for key, value in dictSortIndex.items():\n",
    "#    if len(value.keys()) > 1:\n",
    "#        instancesToYear[key] = billboardWeekly[billboardWeekly.SongID == key].WeekID.iloc[0].split('/')[2]\n",
    "#print(instancesToYear)\n",
    "# week IDs are always in order, so we just want the first one\n",
    "#print(billboardWeekly[billboardWeekly.SongID == 'This Is MeKeala Settle & The Greatest Showman Ensemble'].WeekID.iloc[0])\n",
    "#print(billboardWeekly[billboardWeekly.SongID == 'This Is MeKeala Settle & The Greatest Showman Ensemble'].WeekID.iloc[0].split('/')[2])\n",
    "'''\n",
    "instancesToYear = {}\n",
    "for key, value in dictSortIndex.items():\n",
    "    if len(value.keys()) > 1:\n",
    "        yr = billboardWeekly[billboardWeekly.SongID == key].WeekID.iloc[0].split('/')[2]\n",
    "        if(yr in instancesToYear.keys()):\n",
    "            instancesToYear[yr] += [key]\n",
    "        else:\n",
    "            instancesToYear[yr] = [key]\n",
    "print(instancesToYear)\n",
    "'''\n",
    "yearToInstance = {}\n",
    "for key, value in dictSortIndex.items():\n",
    "    if len(value.keys()) > 1:\n",
    "        yr = billboardWeekly[billboardWeekly.SongID == key].WeekID.iloc[0].split('/')[2]\n",
    "        if(yr in yearToInstance.keys()):\n",
    "            yearToInstance[yr] += 1\n",
    "        else:\n",
    "            yearToInstance[yr] = 1\n",
    "print(yearToInstance)"
   ]
  },
  {
   "cell_type": "code",
   "execution_count": 40,
   "metadata": {},
   "outputs": [
    {
     "name": "stdout",
     "output_type": "stream",
     "text": [
      "    Year  Songs\n",
      "0   1958     42\n",
      "37  1959     44\n",
      "20  1960     50\n",
      "11  1961     59\n",
      "10  1962     69\n",
      "..   ...    ...\n",
      "24  2015     73\n",
      "7   2016     93\n",
      "18  2017     84\n",
      "9   2018    102\n",
      "32  2019     26\n",
      "\n",
      "[62 rows x 2 columns]\n"
     ]
    },
    {
     "data": {
      "image/png": "[encoded data removed]",
      "text/plain": [
       "<Figure size 432x288 with 1 Axes>"
      ]
     },
     "metadata": {},
     "output_type": "display_data"
    }
   ],
   "source": [
    "#yearInstanceDF = pd.DataFrame(yearToInstance, columns = ['Year', 'Songs'])\n",
    "#print(list(yearToInstance.keys()))\n",
    "data = {'Year': list(yearToInstance.keys()), 'Songs': list(yearToInstance.values())}\n",
    "yearInstanceDF = pd.DataFrame(data)\n",
    "yearInstanceDF = yearInstanceDF.sort_values(\"Year\")\n",
    "print(yearInstanceDF)\n",
    "yearInstanceDF.plot(kind='bar', x= 'Year', y='Songs', color='blue')\n",
    "plt.savefig('YEARSxMUL_INSTANCES')\n",
    "#pltcm.register_cmap(name='swirly', cmap=swirly_cmap)\n",
    "plt.show()\n",
    "#yearInstanceDF['Songs'].hist(bins=50)\n",
    "#x axis is years; y axis is number of songs that have more than one instance. Songs that are extremely popular by this metric thus are common as time becomes more recent. "
   ]
  },
  {
   "cell_type": "markdown",
   "metadata": {},
   "source": [
    "This data illustrates the mapping of each year (on the x axis) to the number of songs with more than one instance of appearing on the Billboard Weekly Top 100. Songs that are extremely popular by this metric are therefore becoming increasingly more common as time goes on, as demonstrated by the sharp rise since the mid-1970s (in which appeared very few songs with more than one instance). \n",
    "\n",
    "Another factor at play here is the resurgence of many songs, as mainstream fascination with past culture has seen a heighted presence in recent years. For instance, popular songs by ABBA and The Beatles have had resurgences in recent years, demonstrating the enduring nature of music and artists who have remained relevant to the public eye. \n",
    "\n",
    "An additional factor in recurring songs is that holiday songs, such as Christmas or Halloween songs, have a sharp seasonal ebb and flow that would lend themselves toward higher representation on these lists. Because they regain spots on the list seasonally, they would be more highly represented here than a song that is extremely popular but fades in popularity eventually without resurgence.\n",
    "\n",
    "Factors to explore in the future include the high density of songs that have seen resurgences peaking in the early 1960s.\n"
   ]
  },
  {
   "cell_type": "code",
   "execution_count": 41,
   "metadata": {},
   "outputs": [
    {
     "name": "stdout",
     "output_type": "stream",
     "text": [
      "[\"Can't Stop The Feeling!Justin Timberlake\", 'Shape Of YouEd Sheeran', 'I Will Always Love YouWhitney Houston', 'I Gotta FeelingThe Black Eyed Peas', 'CloserThe Chainsmokers Featuring Halsey', 'See You AgainWiz Khalifa Featuring Charlie Puth', 'Monster MashBobby \"Boris\" Pickett And The Crypt-Kickers', 'I Like ItCardi B, Bad Bunny & J Balvin', 'SmoothSantana Featuring Rob Thomas', 'Somebody That I Used To KnowGotye Featuring Kimbra', 'Girls Like YouMaroon 5 Featuring Cardi B', 'DespacitoLuis Fonsi & Daddy Yankee Featuring Justin Bieber', 'Dark HorseKaty Perry Featuring Juicy J', 'Too CloseNext', 'Truly Madly DeeplySavage Garden', 'Uptown Funk!Mark Ronson Featuring Bruno Mars', 'Viva La VidaColdplay', 'Party Rock AnthemLMFAO Featuring Lauren Bennett & GoonRock', \"That's What I LikeBruno Mars\", 'PerfectEd Sheeran', 'Rolling In The DeepAdele', 'Red Red WineUB40', 'AmazedLonestar', 'All Of MeJohn Legend', 'Set Fire To The RainAdele', 'The TwistChubby Checker', \"Just DanceLady Gaga Featuring Colby O'Donis\", 'Macarena (Bayside Boys Mix)Los Del Rio', 'Cheap ThrillsSia Featuring Sean Paul']\n"
     ]
    }
   ],
   "source": [
    "# list of songs that have been popular for more than a year        \n",
    "popularSongs = []\n",
    "for pair1 in dictSortIndex:\n",
    "    tempSum = 0\n",
    "    for pair2 in dictSortIndex[pair1]:\n",
    "        tempSum = tempSum + dictSortIndex[pair1][pair2]\n",
    "    if tempSum >= 51:\n",
    "        popularSongs.append(pair1)\n",
    "# percentage of songs that have been popular for more than a year vs. total songs\n",
    "popularMoreThan1Yr = ((len(popularSongs))/(len(dictSortIndex.keys())))\n",
    "\n",
    "# songs that have been #1 & were popular for more than a year\n",
    "superPopular = []\n",
    "for song in peakList:\n",
    "    if song in popularSongs:\n",
    "        superPopular.append(song)\n",
    "print(superPopular)"
   ]
  },
  {
   "cell_type": "code",
   "execution_count": 42,
   "metadata": {},
   "outputs": [
    {
     "data": {
      "text/plain": [
       "28193"
      ]
     },
     "execution_count": 42,
     "metadata": {},
     "output_type": "execute_result"
    }
   ],
   "source": [
    "len(billboardWeekly[\"SongID\"].unique())"
   ]
  },
  {
   "cell_type": "code",
   "execution_count": 43,
   "metadata": {},
   "outputs": [
    {
     "data": {
      "text/plain": [
       "0     1958\n",
       "37    1959\n",
       "20    1960\n",
       "11    1961\n",
       "10    1962\n",
       "      ... \n",
       "24    2015\n",
       "7     2016\n",
       "18    2017\n",
       "9     2018\n",
       "32    2019\n",
       "Name: Year, Length: 62, dtype: object"
      ]
     },
     "execution_count": 43,
     "metadata": {},
     "output_type": "execute_result"
    }
   ],
   "source": [
    "# fig1: all songids\n",
    "#billboardWeekly.iloc[billboardWeekly['Instance'] > 1]['Year']\n",
    "#fig1 = billboardWeekly.loc[billboardWeekly['Instance'] > 1]['Year'].hist()\n",
    "#fig1 = plt.gcf()\n",
    "yearInstanceDF['Year']\n",
    "#yearInstance20DF = yearInstanceDF.loc[yearInstanceDF['Year'] < 2000]\n",
    "#print(yearInstanceDF20)\n",
    "#yearInstanceDF.plot(kind='bar', x= 'Year', y='Songs', color='blue')\n",
    "#plt.savefig('YEARSxMUL_INSTANCES')\n",
    "#pltcm.register_cmap(name='swirly', cmap=swirly_cmap)\n",
    "#plt.show()"
   ]
  },
  {
   "cell_type": "code",
   "execution_count": null,
   "metadata": {},
   "outputs": [],
   "source": []
  },
  {
   "cell_type": "code",
   "execution_count": null,
   "metadata": {},
   "outputs": [],
   "source": []
  }
 ],
 "metadata": {
  "kernelspec": {
   "display_name": "Python 3",
   "language": "python",
   "name": "python3"
  },
  "language_info": {
   "codemirror_mode": {
    "name": "ipython",
    "version": 3
   },
   "file_extension": ".py",
   "mimetype": "text/x-python",
   "name": "python",
   "nbconvert_exporter": "python",
   "pygments_lexer": "ipython3",
   "version": "3.6.7"
  }
 },
 "nbformat": 4,
 "nbformat_minor": 2
}
